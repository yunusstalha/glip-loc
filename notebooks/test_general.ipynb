{
 "cells": [
  {
   "cell_type": "code",
   "execution_count": 1,
   "metadata": {},
   "outputs": [],
   "source": [
    "import sys\n",
    "import os\n",
    "from pathlib import Path\n",
    "\n",
    "# If needed, add the project root to sys.path so we can import from src\n",
    "project_root = Path(os.getcwd()).parent\n",
    "if str(project_root) not in sys.path:\n",
    "    sys.path.append(str(project_root / 'src'))\n",
    "from utils.config_parser import load_config\n",
    "cfg = load_config('/home/erzurumlu.1/yunus/git/glip-loc/configs/default.yaml')"
   ]
  },
  {
   "cell_type": "code",
   "execution_count": 2,
   "metadata": {},
   "outputs": [
    {
     "name": "stdout",
     "output_type": "stream",
     "text": [
      "torch.Size([16, 3, 384, 768]) torch.Size([16, 3, 384, 384]) tensor([41883, 19252,  8299, 55891, 17901,  6928, 55531, 65653, 51226, 74526,\n",
      "        29502, 12786, 36985, 63717, 22523, 55722]) ['Tall residential buildings line the right side of a major road intersected by a cross street. To the left, a large park with dense trees runs parallel to the road. Taxis and cars populate the road, reflecting urban activity. The park and cityscape interact seamlessly.', \"Urban landscape features a river intersecting with tall, varied skyscrapers. Notable curved and angular buildings line the riverbank, flanked by bridges and roads. Boats dock along the water, enhancing the city's dynamics. Parks and open spaces are scarce, emphasizing dense architecture, with structures positioned closely alongside the central waterway.\", 'An intersection of two narrow roads features brick buildings on both corners. To the right, a parking lot is visible. Behind the buildings, a few taller structures rise, creating a modest skyline. Street trees line the roads, and cars are parked along the curbs, enhancing the urban atmosphere.', 'A street intersection with houses lines the right, while a green area with trees and a court is left. Roads meet at an angled junction in front, and a small parking area is present. Overhead wires cross above, and natural elements blend with urban settings, creating a balanced scene.', 'The image shows a city street lined with modern skyscrapers, forming a U-shape. Major roads intersect perpendicularly, with a parking lot in front. Buildings are closely packed, with open street space between. A mix of wide and narrow streets is apparent, with visible green spaces and small trees interspersed.', 'The panoramic view captures a neoclassical building with columns, centrally located. A wide road runs in front, with green spaces and trees on both sides. Skyscrapers rise in the left background. A fenced area extends to the left, while a path and open space appear to the right.', \"A broad street lined with colorful, two-story houses stretches with cars parked along both sides. Intersecting roads are visible in the distance. Utility lines crisscross overhead. There's a lack of natural features or green spaces within immediate view, highlighting a dense urban layout with buildings close to the street.\", 'Three major roads intersect near a curved glass building on the right. To the left, a two-story building stands at the corner. Open spaces, including parking, are behind. High-rise buildings are in the distance. Roads form a T-junction, blending urban structures with minimal natural features.', 'The street features narrow roads with parallel parking, flanked by multi-story residential buildings. Trees line the sidewalks, providing shade. Streets intersect perpendicularly, while buildings are closely spaced. No prominent landmarks are visible. The scene is urban, with natural elements like trees integrated into the residential landscape.', 'A four-lane road intersects at a T-junction with visible commercial buildings along both sides. On the left, a parking lot sits adjacent to stores; on the right, industrial buildings are visible. Sparse greenery lines the street. Power lines cross overhead, shaping the urban-industrial landscape.', 'A bustling urban street features multi-story buildings with shops on ground level. Major roads intersect, with a busy street flanked by sidewalks. Tall buildings are positioned diagonally and directly across from one another. Open spaces include visible sidewalks and small parking areas. Urban structures dominate, with limited natural elements.', 'The view shows a busy urban intersection with multi-story buildings to the left and right. A prominent building featuring glass façades is on the left, while modern, rectangular buildings are on the right. The street has marked crosswalks and traffic signals. Cars line the roads, and the sky is partly cloudy, adding depth to the scene.', 'The image depicts a bustling urban intersection with a prominent curved building above the street. Major roads intersect beneath with notable traffic. To the left, a brick building stands. Buses and vehicles are prominent on the right. High-rise structures loom in the background, combining urban density with active transit.', 'At a four-way intersection, roads form crosswise paths with marked pedestrian crossings. To the left, multi-story residential buildings stand parallel to the street, while central trees suggest a nearby park. Rightward, more homes line the road, and diagonally, an open lot offers street parking. Paths intersect urban greenery.', 'To the right, a waterfront promenade is lined with trees and benches. Mid-ground features a parking area with stairs leading up. Tall buildings are visible in the distance, suggesting an urban skyline. A fenced area is on the left, guiding towards the cityscape, blending natural and urban elements.', 'A highway runs horizontally, flanked by a lush green area on the left and industrial buildings on the right. The vegetation contrasts the paved road. Buildings lie parallel to the road, with a mix of vegetation creating a natural boundary. The open sky adds depth to the urban scene.'] ['Urban layout reveals a dense network with tree-lined streets and intersections. Diagonally across, a large, angular building is adjacent to a substantial green space. Notable streets intersect near high-rises, with parking areas nearby. Trees blend urban and natural elements, enhancing the cityscape’s verticality and ground-level vibrance.', 'Urban waterfront features grid-like structures adjacent to a river. Large open plazas are present near the water, with perpendicular docks extending into the river. A prominent building lies at the top-center, with streets running parallel to the river. Minimal greenery is noted, emphasizing the urban infrastructure.', 'In this urban area, rectangular buildings line a grid-like street layout, with a parking lot to the bottom right. An open space resembling a park or sports field is visible top right. Natural greenery is sparse, mostly on street edges. Streets are intersected perpendicularly, providing clear navigation points.', 'A winding road curves diagonally, intersecting with a straight street. Clustered rectangular buildings line the roads, with some featuring flat roofs. A small parking area is visible beside the road. Green spaces with trees dot the area behind houses, providing contrast to the urban layout.', 'Urban layout shows a large open green space to the left, bordered by a road with visible traffic. Buildings with distinct rectangular shapes are on the right, one featuring a rooftop pool. Roads intersect around landmarks, providing clear pathways, while shadows indicate taller structures nearby. Natural-urban interplay is evident.', 'Aerial view reveals a rectangular plaza with trees in the center, adjacent to two major intersecting roads forming a crosswalk. Buildings line both sides of the streets; open areas include walkways and green spaces. Roads and crosswalks define the layout, integrating urban elements with natural features.', 'A dense urban layout features parallel streets lined with residential buildings. Structures are rectangular with flat rooftops. Trees and small green patches are interspersed. Sidewalks border each road, with parked cars visible. The compact design and grid layout suggest limited open spaces and a focus on efficient organization.', 'Urban layout with rectangular buildings and straight roads. Major intersection in center, bordered by commercial structures. Notable roofs with equipment, hinting industrial or commercial use. Parking lots adjacent to buildings. Roads lined with parked cars, suggesting dense traffic. Little natural features visible, emphasizing a concrete-dominated environment.', 'A suburban neighborhood layout features a grid-like street pattern with intersecting roads. Houses align along both sides with occasional driveways. Trees are scattered throughout, providing green patches. To the bottom, a small open space or yard appears adjacent to a pool. Urban structure blends harmoniously with natural elements.', 'An urban street runs vertically with multiple lanes. Adjacent is a large, rectangular building with a flat roof to the right. An open parking lot lies behind the building. A bus travels along the road. Sparse vegetation lines the street, and the area appears mostly industrial.', 'Urban grid features intersecting streets with buildings on either side. A T-shaped intersection is central, surrounded by rectangular structures. Vehicles traverse the roads, indicating active traffic. The layout includes visible crosswalks and sidewalks. Open spaces are minimal, primarily dedicated to roadways and pedestrian paths.', 'An intersection appears with a perpendicular road network, accompanied by parking lots to the right. Trees line the street below the lot. A large building sits at the image’s bottom edge. Cars are visible, and urban structures dominate, with minimal green space amidst the developed area.', 'An urban area features a curved highway intersecting with local streets. Notable are rectangular buildings and a parking lot below the highway. Open spaces are limited; trees are visible to the left. The highway lies above other structures, creating an elevated layer over the urban layout.', 'An intersection prominently divides the urban layout, with parallel roads lined by buildings. A small landscaped median highlights the space. Trees dot the sidewalks, providing natural contrast. Buildings closely align to streets, indicating a dense urban area. Vehicles and parking suggest residential and commercial use, underscoring vibrant street activity.', 'A curved building dominates the upper area, surrounded by a circular pathway and trees. A river borders the left edge, with adjacent piers. A large white-roofed structure sits to the left, near parking spaces. Trees and pathways intermix, creating green spaces amid urban structures, suggesting scenic views.', 'A major highway runs vertically with multiple lanes and sparse vehicles. To its left, residential buildings and a few trees create a buffer zone. The area is characterized by lush greenery. The highway divides urban structures from natural surroundings, emphasizing the contrast between developed and open spaces.']\n"
     ]
    }
   ],
   "source": [
    "from data.dataloaders import build_dataloaders\n",
    "train_loader, val_loader = build_dataloaders(cfg)\n",
    "\n",
    "batch = next(iter(train_loader))\n",
    "print(batch[0].shape, batch[1].shape, batch[2], batch[3], batch[4])\n"
   ]
  },
  {
   "cell_type": "code",
   "execution_count": 3,
   "metadata": {},
   "outputs": [
    {
     "name": "stderr",
     "output_type": "stream",
     "text": [
      "/home/erzurumlu.1/miniconda3/envs/CLIP-LoRA/lib/python3.10/site-packages/tqdm/auto.py:21: TqdmWarning: IProgress not found. Please update jupyter and ipywidgets. See https://ipywidgets.readthedocs.io/en/stable/user_install.html\n",
      "  from .autonotebook import tqdm as notebook_tqdm\n",
      "/home/erzurumlu.1/miniconda3/envs/CLIP-LoRA/lib/python3.10/site-packages/torchvision/datapoints/__init__.py:12: UserWarning: The torchvision.datapoints and torchvision.transforms.v2 namespaces are still Beta. While we do not expect major breaking changes, some APIs may still change according to user feedback. Please submit any feedback you may have in this issue: https://github.com/pytorch/vision/issues/6753, and you can also check out https://github.com/pytorch/vision/issues/7319 to learn more about the APIs that we suspect might involve future changes. You can silence this warning by calling torchvision.disable_beta_transforms_warning().\n",
      "  warnings.warn(_BETA_TRANSFORMS_WARNING)\n",
      "/home/erzurumlu.1/miniconda3/envs/CLIP-LoRA/lib/python3.10/site-packages/torchvision/transforms/v2/__init__.py:54: UserWarning: The torchvision.datapoints and torchvision.transforms.v2 namespaces are still Beta. While we do not expect major breaking changes, some APIs may still change according to user feedback. Please submit any feedback you may have in this issue: https://github.com/pytorch/vision/issues/6753, and you can also check out https://github.com/pytorch/vision/issues/7319 to learn more about the APIs that we suspect might involve future changes. You can silence this warning by calling torchvision.disable_beta_transforms_warning().\n",
      "  warnings.warn(_BETA_TRANSFORMS_WARNING)\n",
      "/home/erzurumlu.1/miniconda3/envs/CLIP-LoRA/lib/python3.10/site-packages/torch/_utils.py:776: UserWarning: TypedStorage is deprecated. It will be removed in the future and UntypedStorage will be the only storage class. This should only matter to you if you are using storages directly.  To access UntypedStorage directly, use tensor.untyped_storage() instead of tensor.storage()\n",
      "  return self.fget.__get__(instance, owner)()\n"
     ]
    },
    {
     "name": "stdout",
     "output_type": "stream",
     "text": [
      "5\n"
     ]
    }
   ],
   "source": [
    "from models.glip_loc import GLIPLocModel\n",
    "model = GLIPLocModel(model_name=\"openai/clip-vit-base-patch32\", \n",
    "                     pretrained=True, \n",
    "                     use_text=True)\n",
    "ground_img, sat_img, label, ground_txt, sat_txt = next(iter(train_loader))\n",
    "outputs = model(ground_image=ground_img, satellite_image=sat_img,\n",
    "                ground_captions=ground_txt, satellite_captions=sat_txt)\n",
    "print(len(outputs))  # or individual shapes\n"
   ]
  },
  {
   "cell_type": "code",
   "execution_count": 5,
   "metadata": {},
   "outputs": [
    {
     "name": "stdout",
     "output_type": "stream",
     "text": [
      "torch.Size([16, 512]) torch.Size([16, 512]) torch.Size([16, 512]) torch.Size([16, 512])\n"
     ]
    }
   ],
   "source": [
    "print(outputs[0].shape, outputs[1].shape, outputs[2].shape, outputs[3].shape)"
   ]
  },
  {
   "cell_type": "code",
   "execution_count": null,
   "metadata": {},
   "outputs": [],
   "source": []
  }
 ],
 "metadata": {
  "kernelspec": {
   "display_name": "whereami",
   "language": "python",
   "name": "python3"
  },
  "language_info": {
   "codemirror_mode": {
    "name": "ipython",
    "version": 3
   },
   "file_extension": ".py",
   "mimetype": "text/x-python",
   "name": "python",
   "nbconvert_exporter": "python",
   "pygments_lexer": "ipython3",
   "version": "3.10.0"
  }
 },
 "nbformat": 4,
 "nbformat_minor": 2
}
